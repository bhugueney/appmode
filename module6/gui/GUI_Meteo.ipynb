{
 "cells": [
  {
   "cell_type": "code",
   "execution_count": 1,
   "id": "f50b104f",
   "metadata": {},
   "outputs": [],
   "source": [
    "import ipywidgets as widgets\n",
    "from IPython.display import display"
   ]
  },
  {
   "cell_type": "code",
   "execution_count": 2,
   "id": "890e26e1",
   "metadata": {},
   "outputs": [],
   "source": [
    "stations=\"\"\"07005\tABBEVILLE\n",
    "07015\tLILLE-LESQUIN\n",
    "07020\tPTE DE LA HAGUE\n",
    "07027\tCAEN-CARPIQUET\n",
    "07037\tROUEN-BOOS\n",
    "07072\tREIMS-PRUNAY\n",
    "07110\tBREST-GUIPAVAS\n",
    "07117\tPLOUMANAC'H\n",
    "07130\tRENNES-ST JACQUES\n",
    "07139\tALENCON\n",
    "07149\tORLY\n",
    "07168\tTROYES-BARBEREY\n",
    "07181\tNANCY-OCHEY\n",
    "07190\tSTRASBOURG-ENTZHEIM\n",
    "07207\tBELLE ILE-LE TALUT\n",
    "07222\tNANTES-BOUGUENAIS\n",
    "07240\tTOURS\n",
    "07255\tBOURGES\n",
    "07280\tDIJON-LONGVIC\n",
    "07299\tBALE-MULHOUSE\n",
    "07314\tPTE DE CHASSIRON\n",
    "07335\tPOITIERS-BIARD\n",
    "07434\tLIMOGES-BELLEGARDE\n",
    "07460\tCLERMONT-FD\n",
    "07471\tLE PUY-LOUDES\n",
    "07481\tLYON-ST EXUPERY\n",
    "07510\tBORDEAUX-MERIGNAC\n",
    "07535\tGOURDON\n",
    "07558\tMILLAU\n",
    "07577\tMONTELIMAR\n",
    "07591\tEMBRUN\n",
    "07607\tMONT-DE-MARSAN\n",
    "07621\tTARBES-OSSUN\n",
    "07627\tST GIRONS\n",
    "07630\tTOULOUSE-BLAGNAC\n",
    "07643\tMONTPELLIER\n",
    "07650\tMARIGNANE\n",
    "07661\tCAP CEPET\n",
    "07690\tNICE\n",
    "07747\tPERPIGNAN\n",
    "07761\tAJACCIO\n",
    "07790\tBASTIA\n",
    "61968\tGLORIEUSES\n",
    "61970\tJUAN DE NOVA\n",
    "61972\tEUROPA\n",
    "61976\tTROMELIN\n",
    "61980\tGILLOT-AEROPORT\n",
    "61996\tNOUVELLE AMSTERDAM\n",
    "61997\tCROZET\n",
    "61998\tKERGUELEN\n",
    "67005\tPAMANDZI\n",
    "71805\tST-PIERRE\n",
    "78890\tLA DESIRADE METEO\n",
    "78894\tST-BARTHELEMY METEO\n",
    "78897\tLE RAIZET AERO\n",
    "78922\tTRINITE-CARAVEL\n",
    "78925\tLAMENTIN-AERO\n",
    "81401\tSAINT LAURENT\n",
    "81405\tCAYENNE-MATOURY\n",
    "81408\tSAINT GEORGES\n",
    "81415\tMARIPASOULA\n",
    "89642\tDUMONT D'URVILLE\"\"\"\n",
    "\n",
    "name_to_code={}\n",
    "for t in stations.split('\\n'):\n",
    "    code, name= t.split('\\t')\n",
    "    name_to_code[name]=int(code)"
   ]
  },
  {
   "cell_type": "code",
   "execution_count": 3,
   "id": "da9eaa1a",
   "metadata": {},
   "outputs": [],
   "source": [
    "gui_station = widgets.Dropdown(\n",
    "    options=name_to_code.keys(),\n",
    "    value='ORLY',\n",
    "    description='Station:',\n",
    ")"
   ]
  },
  {
   "cell_type": "code",
   "execution_count": 4,
   "id": "0d84d073",
   "metadata": {},
   "outputs": [],
   "source": [
    "desc_to_columns={\"Vitesse du vent moyen 10 mn (m/s)\":'ff',\n",
    "        \"Température (°C)\":'t',\n",
    "        \"Humidité (%)\":'u',\n",
    "        \"Visibilité horizontale (m)\" : 'vv',\n",
    "        \"Nebulosité totale (%)\" : 'n',\n",
    "        \"Pression station (Pa)\" : 'pres',\n",
    "        \"Hauteur totale de la couche de neige, glace, autre (m)\": 'ht_neige',\n",
    "        \"Précipitation dans la dernière heure (mm)\" : 'rr1'}"
   ]
  },
  {
   "cell_type": "code",
   "execution_count": 5,
   "id": "37134a24",
   "metadata": {
    "scrolled": true
   },
   "outputs": [],
   "source": [
    "gui_mesure = widgets.Dropdown(\n",
    "    options=desc_to_columns.keys(),\n",
    "    value=\"Température (°C)\",\n",
    "    description='Mesure:',\n",
    ")"
   ]
  },
  {
   "cell_type": "code",
   "execution_count": 6,
   "id": "0b1cad55",
   "metadata": {},
   "outputs": [],
   "source": [
    "import pandas as pd"
   ]
  },
  {
   "cell_type": "code",
   "execution_count": 7,
   "id": "6c8fcc68",
   "metadata": {},
   "outputs": [],
   "source": [
    "import seaborn as sns; sns.set(rc={'figure.figsize':(20,10)})"
   ]
  },
  {
   "cell_type": "code",
   "execution_count": 8,
   "id": "11f35ee3",
   "metadata": {},
   "outputs": [],
   "source": [
    "df=pd.read_csv(\"../../data/Meteo/meteo_france.csv.zip\",parse_dates=['date'])"
   ]
  },
  {
   "cell_type": "code",
   "execution_count": null,
   "id": "159a0d1b",
   "metadata": {},
   "outputs": [],
   "source": [
    "df['t']=df['t']-273.15 # K → C"
   ]
  },
  {
   "cell_type": "code",
   "execution_count": 9,
   "id": "570b7e87",
   "metadata": {},
   "outputs": [],
   "source": [
    "gui_year = widgets.Dropdown(\n",
    "    options=df['date'].dt.year.astype('str').astype('object').unique(),\n",
    "    value='2019',\n",
    "    description='Année:',\n",
    ")"
   ]
  },
  {
   "cell_type": "code",
   "execution_count": 10,
   "id": "56c8dc87",
   "metadata": {},
   "outputs": [],
   "source": [
    "import matplotlib.pyplot as plt\n",
    "import matplotlib.dates as md\n",
    "from IPython.display import clear_output"
   ]
  },
  {
   "cell_type": "code",
   "execution_count": 12,
   "id": "da2468bc",
   "metadata": {},
   "outputs": [],
   "source": [
    "out=widgets.Output()\n",
    "def do_plot(unused):\n",
    "    ax=sns.lineplot(data=df.loc[df['numer_sta']==name_to_code[gui_station.value],].set_index('date').loc[gui_year.value],\n",
    "                x='date', y=desc_to_columns[gui_mesure.value])\n",
    "    ax.xaxis.set_major_locator(md.WeekdayLocator(byweekday = 1))\n",
    "    ax.xaxis.set_minor_locator(md.DayLocator())\n",
    "    ax.xaxis.set_major_formatter(md.DateFormatter('%Y-%m-%d'))\n",
    "    plt.setp(ax.xaxis.get_majorticklabels(), rotation = 90)\n",
    "    ax.xaxis.set_minor_locator(md.DayLocator(interval = 1))\n",
    "    ax.set_xlabel('Date')\n",
    "    ax.set_ylabel(gui_mesure.value)\n",
    "    ax.set_title(\"Relevés à \"+gui_station.value+\" en \"+gui_year.value)\n",
    "    with out :\n",
    "        clear_output(wait=True)\n",
    "        plt.show()"
   ]
  },
  {
   "cell_type": "code",
   "execution_count": 13,
   "id": "dd1ee6db",
   "metadata": {},
   "outputs": [
    {
     "data": {
      "application/vnd.jupyter.widget-view+json": {
       "model_id": "26641165be654aecae176f1e658dca37",
       "version_major": 2,
       "version_minor": 0
      },
      "text/plain": [
       "Dropdown(description='Station:', index=10, options=('ABBEVILLE', 'LILLE-LESQUIN', 'PTE DE LA HAGUE', 'CAEN-CAR…"
      ]
     },
     "metadata": {},
     "output_type": "display_data"
    },
    {
     "data": {
      "application/vnd.jupyter.widget-view+json": {
       "model_id": "cdb0f94d8e6644df8e32ab874b7d0c56",
       "version_major": 2,
       "version_minor": 0
      },
      "text/plain": [
       "Dropdown(description='Mesure:', index=1, options=('Vitesse du vent moyen 10 mn (m/s)', 'Température (°C)', 'Hu…"
      ]
     },
     "metadata": {},
     "output_type": "display_data"
    },
    {
     "data": {
      "application/vnd.jupyter.widget-view+json": {
       "model_id": "2be1d817511247308fc706d3ae92b05a",
       "version_major": 2,
       "version_minor": 0
      },
      "text/plain": [
       "Dropdown(description='Année:', index=22, options=('1997', '1998', '1999', '2000', '2001', '2002', '2003', '200…"
      ]
     },
     "metadata": {},
     "output_type": "display_data"
    }
   ],
   "source": [
    "gui_station.observe(do_plot)\n",
    "gui_mesure.observe(do_plot)\n",
    "gui_year.observe(do_plot)\n",
    "display(gui_station, gui_mesure, gui_year)"
   ]
  },
  {
   "cell_type": "code",
   "execution_count": 14,
   "id": "13c18936",
   "metadata": {},
   "outputs": [
    {
     "data": {
      "application/vnd.jupyter.widget-view+json": {
       "model_id": "db775bb828354defa1e6f8c90335dc64",
       "version_major": 2,
       "version_minor": 0
      },
      "text/plain": [
       "Output(outputs=({'output_type': 'display_data', 'data': {'text/plain': '<Figure size 1440x720 with 1 Axes>', '…"
      ]
     },
     "metadata": {},
     "output_type": "display_data"
    }
   ],
   "source": [
    "do_plot(None)\n",
    "display(out)"
   ]
  }
 ],
 "metadata": {
  "kernelspec": {
   "display_name": "Python 3",
   "language": "python",
   "name": "python3"
  },
  "language_info": {
   "codemirror_mode": {
    "name": "ipython",
    "version": 3
   },
   "file_extension": ".py",
   "mimetype": "text/x-python",
   "name": "python",
   "nbconvert_exporter": "python",
   "pygments_lexer": "ipython3",
   "version": "3.8.8"
  },
  "toc": {
   "base_numbering": 1,
   "nav_menu": {},
   "number_sections": true,
   "sideBar": true,
   "skip_h1_title": false,
   "title_cell": "Table of Contents",
   "title_sidebar": "Contents",
   "toc_cell": false,
   "toc_position": {},
   "toc_section_display": true,
   "toc_window_display": false
  }
 },
 "nbformat": 4,
 "nbformat_minor": 5
}
